{
  "nbformat": 4,
  "nbformat_minor": 0,
  "metadata": {
    "colab": {
      "name": "ANN_Turb",
      "provenance": [],
      "authorship_tag": "ABX9TyORRKuuhHjcTRtZCwKtUDN/",
      "include_colab_link": true
    },
    "kernelspec": {
      "display_name": "Python 3",
      "name": "python3"
    },
    "language_info": {
      "name": "python"
    }
  },
  "cells": [
    {
      "cell_type": "markdown",
      "metadata": {
        "id": "view-in-github",
        "colab_type": "text"
      },
      "source": [
        "<a href=\"https://colab.research.google.com/github/YKulki/Turbulence-Modelling/blob/main/ANN_Turb.ipynb\" target=\"_parent\"><img src=\"https://colab.research.google.com/assets/colab-badge.svg\" alt=\"Open In Colab\"/></a>"
      ]
    },
    {
      "cell_type": "code",
      "metadata": {
        "colab": {
          "base_uri": "https://localhost:8080/"
        },
        "id": "N0tML-pBFV36",
        "outputId": "fa999ddf-7af3-49ae-c4b9-78b62be67947"
      },
      "source": [
        "from google.colab import drive\n",
        "drive.mount('/content/drive')"
      ],
      "execution_count": 1,
      "outputs": [
        {
          "output_type": "stream",
          "name": "stdout",
          "text": [
            "Mounted at /content/drive\n"
          ]
        }
      ]
    },
    {
      "cell_type": "code",
      "metadata": {
        "id": "wK13JDynFZLw"
      },
      "source": [
        "import tensorflow as tf\n",
        "import numpy as np\n",
        "import matplotlib.pyplot as plt\n",
        "import scipy.io\n",
        "from scipy.interpolate import griddata\n",
        "import time\n"
      ],
      "execution_count": 2,
      "outputs": []
    },
    {
      "cell_type": "code",
      "metadata": {
        "colab": {
          "base_uri": "https://localhost:8080/"
        },
        "id": "13niAiFOFq5D",
        "outputId": "c1af8b9c-2aca-4c58-ba61-df6bca4447c3"
      },
      "source": [
        "datapath='/content/drive/MyDrive/Turbulence_data/data.npy'\n",
        "dataset=np.load(datapath)\n",
        "dataset.shape"
      ],
      "execution_count": 3,
      "outputs": [
        {
          "output_type": "execute_result",
          "data": {
            "text/plain": [
              "(1046, 600, 6)"
            ]
          },
          "metadata": {},
          "execution_count": 3
        }
      ]
    },
    {
      "cell_type": "code",
      "metadata": {
        "colab": {
          "base_uri": "https://localhost:8080/"
        },
        "id": "40RR5DgnJac_",
        "outputId": "1ccc5c33-3fa0-4bf2-945e-198140ab1568"
      },
      "source": [
        "train=dataset[:,0:400,:]\n",
        "test=dataset[:,401:599,:]\n",
        "train.shape"
      ],
      "execution_count": 4,
      "outputs": [
        {
          "output_type": "execute_result",
          "data": {
            "text/plain": [
              "(1046, 400, 6)"
            ]
          },
          "metadata": {},
          "execution_count": 4
        }
      ]
    },
    {
      "cell_type": "code",
      "metadata": {
        "id": "p4jaxrpeIN7C"
      },
      "source": [
        ""
      ],
      "execution_count": 14,
      "outputs": []
    },
    {
      "cell_type": "code",
      "metadata": {
        "id": "sKHee9TWGOe_"
      },
      "source": [
        "class FCN(nn.Module):\n",
        "    \"Defines a connected network\"\n",
        "    \n",
        "    def __init__(self, N_INPUT, N_OUTPUT, N_HIDDEN, N_LAYERS):\n",
        "        super().__init__()\n",
        "        activation = nn.Tanh\n",
        "        self.fcs = nn.Sequential(*[\n",
        "                        nn.Linear(N_INPUT, N_HIDDEN),\n",
        "                        activation()])\n",
        "        self.fch = nn.Sequential(*[\n",
        "                        nn.Sequential(*[\n",
        "                            nn.Linear(N_HIDDEN, N_HIDDEN),\n",
        "                            activation()]) for _ in range(N_LAYERS-1)])\n",
        "        self.fce = nn.Linear(N_HIDDEN, N_OUTPUT)\n",
        "        \n",
        "    def forward(self, x):\n",
        "        x = self.fcs(x)\n",
        "        x = self.fch(x)\n",
        "        x = self.fce(x)\n",
        "        return x\n",
        "\n",
        "                \n"
      ],
      "execution_count": 6,
      "outputs": []
    },
    {
      "cell_type": "code",
      "metadata": {
        "id": "i_qdM8x3jfRQ"
      },
      "source": [
        "# train standard neural network to fit training data\n",
        "torch.manual_seed(123)\n",
        "model=FCN(3,3,32,3)\n",
        "optimizer = torch.optim.Adam(model.parameters(),lr=1e-4)\n",
        "for i in range(100):\n",
        "    optimizer.zero_grad()\n",
        "    x_data=train[:,:,0:3]\n",
        "    x_data=torch.tensor(x_data,requires_grad=True)\n",
        "\n",
        "    y_data=train[:,:,3:6]\n",
        "    y_data=torch.tensor(y_data,requires_grad=True)\n",
        "\n",
        "    # loss due to data\n",
        "    yh = model(x_data.float())\n",
        "    loss1 = torch.mean((yh-y_data)**2) # MSE\n",
        "\n",
        "\n",
        "    #insert values of u,v,p,x,y,t here\n",
        "    u=y_data[:,:,0]\n",
        "    v=y_data[:,:,1]\n",
        "    p=y_data[:,:,2]\n",
        "\n",
        "    # gradients\n",
        "    '''\n",
        "    ux=torch.autograd.grad(yh[:,:,0],x_data[:,:,1])[0]\n",
        "    uy=torch.autograd.grad(yh[:,:,0],y,torch.ones_like(u))\n",
        "    uxx=torch.autograd.grad(ux,x,torch.ones_like(ux))\n",
        "    uyy=torch.autograd.grad(uy,y,torch.ones_like(uy))\n",
        "    ut=torch.autograd.grad(yh[:,:,0],t,torch.ones_like(u))\n",
        "    vx=torch.autograd.grad(yh[:,:,1],x,torch.ones_like(v))\n",
        "    vy=torch.autograd.grad(yh[:,:,1],y,torch.ones_like(v))\n",
        "    vxx=torch.autograd.grad(vx,x,torch.ones_like(vx))\n",
        "    vyy=torch.autograd.grad(vy,y,torch.ones_like(vy))\n",
        "    vt=torch.autograd.grad(yh[:,:,1],t,torch.ones_like(v))\n",
        "    px=torch.autograd.grad(yh[:,:,2],x,torch.ones_like(p))\n",
        "    py=torch.autograd.grad(yh[:,:,2],y,torch.ones_like(p))\n",
        "\n",
        "    #invariant losses\n",
        "\n",
        "    loss_mc=ux\n",
        "    loss_NVx=ut+u*ux+v*uy+px-V*(uxx+uyy)\n",
        "    loss_NVy=vt+u*vx+v*vy+py-V*(vxx+vyy)\n",
        "'''\n",
        "    # backpropagation\n",
        "    loss=loss1\n",
        "    loss.backward()\n",
        "    optimizer.step()\n",
        "               "
      ],
      "execution_count": 7,
      "outputs": []
    },
    {
      "cell_type": "code",
      "metadata": {
        "id": "dHQvlVr9kQ8H"
      },
      "source": [
        ""
      ],
      "execution_count": null,
      "outputs": []
    }
  ]
}